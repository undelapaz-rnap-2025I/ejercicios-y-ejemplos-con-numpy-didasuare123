{
  "nbformat": 4,
  "nbformat_minor": 0,
  "metadata": {
    "colab": {
      "provenance": []
    },
    "kernelspec": {
      "name": "python3",
      "display_name": "Python 3"
    },
    "language_info": {
      "name": "python"
    }
  },
  "cells": [
    {
      "cell_type": "markdown",
      "source": [
        "# Taller 1: Ejercicios y Ejemplos en Python con NumPy\n\n",
        "Este cuaderno ha sido creado para implementar y documentar ejemplos y ejercicios utilizando NumPy y Matplotlib.\n\n",
        "## Objetivo\n\n",
        "Reforzar habilidades en el uso de Python y NumPy mediante la pr\u00e1ctica con ejemplos reales y la resoluci\u00f3n de problemas.\n\n",
        "## Requisitos\n\n",
        "- Python 3.8 o superior\n",
        "- Bibliotecas necesarias: NumPy y Matplotlib"
      ],
      "metadata": {}
    },
    {
      "cell_type": "code",
      "execution_count": null,
      "metadata": {},
      "outputs": [],
      "source": [
        "# \u2705 Instalar e importar bibliotecas necesarias\n",
        "!pip install numpy matplotlib\n",
        "import numpy as np\n",
        "import matplotlib.pyplot as plt"
      ]
    },
    {
      "cell_type": "markdown",
      "source": [
        "## \ud83d\udd22 Ejemplos con NumPy"
      ],
      "metadata": {}
    },
    {
      "cell_type": "code",
      "execution_count": null,
      "metadata": {},
      "outputs": [],
      "source": [
        "# Ejemplo 1: Crear arrays\n",
        "a = np.array([1, 2, 3])\n",
        "b = np.array([[1, 2], [3, 4]])\n",
        "print(\"1D array:\", a)\n",
        "print(\"2D array:\\n\", b)"
      ]
    },
    {
      "cell_type": "code",
      "execution_count": null,
      "metadata": {},
      "outputs": [],
      "source": [
        "# Ejemplo 2: Propiedades del array\n",
        "print(\"Shape:\", b.shape)\n",
        "print(\"Dimensiones:\", b.ndim)\n",
        "print(\"Tama\u00f1o:\", b.size)\n",
        "print(\"Tipo de datos:\", b.dtype)"
      ]
    },
    {
      "cell_type": "code",
      "execution_count": null,
      "metadata": {},
      "outputs": [],
      "source": [
        "# Ejemplo 3: Operaciones aritm\u00e9ticas\n",
        "x = np.array([10, 20, 30])\n",
        "y = np.array([1, 2, 3])\n",
        "print(\"Suma:\", x + y)\n",
        "print(\"Producto:\", x * y)\n",
        "print(\"Promedio:\", np.mean(x))"
      ]
    },
    {
      "cell_type": "markdown",
      "source": [
        "## \ud83d\udcdd Ejercicios Resueltos"
      ],
      "metadata": {}
    },
    {
      "cell_type": "code",
      "execution_count": null,
      "metadata": {},
      "outputs": [],
      "source": [
        "# Ejercicio 1: Suma de dos vectores\n",
        "a = np.array([5, 10, 15])\n",
        "b = np.array([2, 4, 6])\n",
        "resultado = a + b\n",
        "print(\"Resultado:\", resultado)"
      ]
    },
    {
      "cell_type": "code",
      "execution_count": null,
      "metadata": {},
      "outputs": [],
      "source": [
        "# Ejercicio 2: Producto punto de dos vectores\n",
        "v1 = np.array([1, 3, 5])\n",
        "v2 = np.array([2, 4, 6])\n",
        "producto_punto = np.dot(v1, v2)\n",
        "print(\"Producto punto:\", producto_punto)"
      ]
    },
    {
      "cell_type": "code",
      "execution_count": null,
      "metadata": {},
      "outputs": [],
      "source": [
        "# Ejercicio 3: Crear una matriz identidad 4x4\n",
        "I = np.eye(4)\n",
        "print(\"Matriz identidad 4x4:\\n\", I)"
      ]
    },
    {
      "cell_type": "code",
      "execution_count": null,
      "metadata": {},
      "outputs": [],
      "source": [
        "# Ejercicio 4: Generar una matriz 3x3 con valores aleatorios entre 0 y 1\n",
        "matriz_aleatoria = np.random.rand(3, 3)\n",
        "print(\"Matriz aleatoria 3x3:\\n\", matriz_aleatoria)"
      ]
    },
    {
      "cell_type": "code",
      "execution_count": null,
      "metadata": {},
      "outputs": [],
      "source": [
        "# Ejercicio 5: Calcular la media por columna de una matriz\n",
        "M = np.array([[1, 2, 3], [4, 5, 6], [7, 8, 9]])\n",
        "media_col = np.mean(M, axis=0)\n",
        "print(\"Medias por columna:\", media_col)"
      ]
    },
    {
      "cell_type": "markdown",
      "source": [
        "## \ud83d\udcca Visualizaci\u00f3n: Descenso por Gradiente"
      ],
      "metadata": {}
    },
    {
      "cell_type": "code",
      "execution_count": null,
      "metadata": {},
      "outputs": [],
      "source": [
        "def f(x):\n",
        "    return x**2\n",
        "\n",
        "def grad_f(x):\n",
        "    return 2*x\n",
        "\n",
        "x = 10\n",
        "lr = 0.3\n",
        "x_hist = [x]\n",
        "for _ in range(10):\n",
        "    x -= lr * grad_f(x)\n",
        "    x_hist.append(x)\n",
        "\n",
        "x_vals = np.linspace(-10, 10, 100)\n",
        "y_vals = f(x_vals)\n",
        "\n",
        "plt.plot(x_vals, y_vals, label='f(x) = x\u00b2')\n",
        "plt.scatter(x_hist, [f(xi) for xi in x_hist], color='red', label='Iteraciones')\n",
        "plt.title('Descenso por Gradiente')\n",
        "plt.xlabel('x')\n",
        "plt.ylabel('f(x)')\n",
        "plt.legend()\n",
        "plt.grid(True)\n",
        "plt.show()"
      ]
    }
  ]
}