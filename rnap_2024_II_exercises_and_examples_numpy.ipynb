{
  "nbformat": 4,
  "nbformat_minor": 0,
  "metadata": {
    "colab": {
      "provenance": []
    },
    "kernelspec": {
      "name": "python3",
      "display_name": "Python 3"
    },
    "language_info": {
      "name": "python"
    }
  },
  "cells": [
    {
      "cell_type": "markdown",
      "source": [
        "# Learning and practicing NumPy with examples and exercises"
      ],
      "metadata": {
        "id": "z9dathS_lkMu"
      }
    },
    {
      "cell_type": "code",
      "execution_count": null,
      "metadata": {
        "id": "JrciqVNelazN"
      },
      "outputs": [],
      "source": [
        "# ✅ Install and import libraries\n",
        "!pip install numpy matplotlib\n",
        "import numpy as np\n",
        "import matplotlib.pyplot as plt"
      ]
    },
    {
      "cell_type": "markdown",
      "source": ["## 🔢 NumPy Examples"],
      "metadata": {}
    },
    {
      "cell_type": "code",
      "execution_count": null,
      "metadata": {},
      "outputs": [],
      "source": [
        "# Example 1: Create arrays\n",
        "a = np.array([1, 2, 3])\n",
        "b = np.array([[1, 2], [3, 4]])\n",
        "print(\"1D array:\", a)\n",
        "print(\"2D array:\\n\", b)"
      ]
    },
    {
      "cell_type": "code",
      "execution_count": null,
      "metadata": {},
      "outputs": [],
      "source": [
        "# Example 2: Array properties\n",
        "print(\"Shape:\", b.shape)\n",
        "print(\"Dimensions:\", b.ndim)\n",
        "print(\"Size:\", b.size)\n",
        "print(\"Data type:\", b.dtype)"
      ]
    },
    {
      "cell_type": "code",
      "execution_count": null,
      "metadata": {},
      "outputs": [],
      "source": [
        "# Example 3: Arithmetic operations\n",
        "x = np.array([10, 20, 30])\n",
        "y = np.array([1, 2, 3])\n",
        "print(\"Sum:\", x + y)\n",
        "print(\"Product:\", x * y)\n",
        "print(\"Mean:\", np.mean(x))"
      ]
    },
    {
      "cell_type": "markdown",
      "source": ["## 📝 Solved Exercises"],
      "metadata": {}
    },
    {
      "cell_type": "code",
      "execution_count": null,
      "metadata": {},
      "outputs": [],
      "source": [
        "# Exercise 1: Sum of two vectors\n",
        "a = np.array([5, 10, 15])\n",
        "b = np.array([2, 4, 6])\n",
        "result = a + b\n",
        "print(\"Result:\", result)"
      ]
    },
    {
      "cell_type": "code",
      "execution_count": null,
      "metadata": {},
      "outputs": [],
      "source": [
        "# Exercise 2: Dot product of two vectors\n",
        "v1 = np.array([1, 3, 5])\n",
        "v2 = np.array([2, 4, 6])\n",
        "dot = np.dot(v1, v2)\n",
        "print(\"Dot product:\", dot)"
      ]
    },
    {
      "cell_type": "code",
      "execution_count": null,
      "metadata": {},
      "outputs": [],
      "source": [
        "# Exercise 3: Create a 4x4 identity matrix\n",
        "I = np.eye(4)\n",
        "print(\"4x4 Identity Matrix:\\n\", I)"
      ]
    },
    {
      "cell_type": "code",
      "execution_count": null,
      "metadata": {},
      "outputs": [],
      "source": [
        "# Exercise 4: Generate a 3x3 matrix with random values between 0 and 1\n",
        "random_matrix = np.random.rand(3, 3)\n",
        "print(\"3x3 Random Matrix:\\n\", random_matrix)"
      ]
    },
    {
      "cell_type": "code",
      "execution_count": null,
      "metadata": {},
      "outputs": [],
      "source": [
        "# Exercise 5: Calculate the mean per column of a matrix\n",
        "M = np.array([[1, 2, 3], [4, 5, 6], [7, 8, 9]])\n",
        "mean_col = np.mean(M, axis=0)\n",
        "print(\"Column means:\", mean_col)"
      ]
    },
    {
      "cell_type": "markdown",
      "source": ["## 📊 Visualization: Gradient Descent"],
      "metadata": {}
    },
    {
      "cell_type": "code",
      "execution_count": null,
      "metadata": {},
      "outputs": [],
      "source": [
        "def f(x):\n",
        "    return x**2\n",
        "\n",
        "def grad_f(x):\n",
        "    return 2*x\n",
        "\n",
        "# Gradient descent\n",
        "x = 10\n",
        "lr = 0.3\n",
        "x_hist = [x]\n",
        "for i in range(10):\n",
        "    x -= lr * grad_f(x)\n",
        "    x_hist.append(x)\n",
        "\n",
        "# Plot\n",
        "x_vals = np.linspace(-10, 10, 100)\n",
        "y_vals = f(x_vals)\n",
        "plt.plot(x_vals, y_vals, label='f(x) = x²')\n",
        "plt.scatter(x_hist, [f(xi) for xi in x_hist], color='red', label='Iterations')\n",
        "plt.title('Gradient Descent')\n",
        "plt.xlabel('x')\n",
        "plt.ylabel('f(x)')\n",
        "plt.legend()\n",
        "plt.grid(True)\n",
        "plt.show()"
      ]
    }
  ]
}
